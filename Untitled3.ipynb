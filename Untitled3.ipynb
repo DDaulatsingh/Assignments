{
 "cells": [
  {
   "cell_type": "code",
   "execution_count": 17,
   "metadata": {},
   "outputs": [
    {
     "data": {
      "text/plain": [
       "0.5833333333333334"
      ]
     },
     "execution_count": 17,
     "metadata": {},
     "output_type": "execute_result"
    }
   ],
   "source": [
    "def prob(e1,e2):# question 2\n",
    "  pbe1=6/10 # probability of black ball drawn from the bag 1\n",
    "  pbe2=3/7 # probability of black ball drawn from the bag 2\n",
    "  pe1b=(pbe1*e1)/((pbe1*e1)+(e2*pbe2)) # probability of bag1 the black ball is to be found\n",
    "  return (pe1b)\n",
    "prob(1/2,1/2)"
   ]
  },
  {
   "cell_type": "code",
   "execution_count": 19,
   "metadata": {},
   "outputs": [
    {
     "data": {
      "text/plain": [
       "0.2857142857142857"
      ]
     },
     "execution_count": 19,
     "metadata": {},
     "output_type": "execute_result"
    }
   ],
   "source": [
    "def pro(s1,s2):# question 3\n",
    "    pbs1=2/3 # probability  that the man speak truth\n",
    "    pbs2=1/3# probability that the man does not speak truth\n",
    "    ps1e=(s1*pbs1)/((s1*pbs1)+(s2*pbs2))\n",
    "    return(ps1e)  # s1 be the event that six occur\n",
    "# s2 be the event that six does not occur\n",
    "pro(1/6,5/6)"
   ]
  },
  {
   "cell_type": "code",
   "execution_count": 20,
   "metadata": {},
   "outputs": [
    {
     "data": {
      "text/plain": [
       "0.0303030303030303"
      ]
     },
     "execution_count": 20,
     "metadata": {},
     "output_type": "execute_result"
    }
   ],
   "source": [
    "def probt(a,b,c):# question 1\n",
    "    d=(c*b)/a\n",
    "    return d\n",
    "probt(11/36,6/36,2/36)"
   ]
  }
 ],
 "metadata": {
  "kernelspec": {
   "display_name": "Python 3",
   "language": "python",
   "name": "python3"
  },
  "language_info": {
   "codemirror_mode": {
    "name": "ipython",
    "version": 3
   },
   "file_extension": ".py",
   "mimetype": "text/x-python",
   "name": "python",
   "nbconvert_exporter": "python",
   "pygments_lexer": "ipython3",
   "version": "3.6.5"
  }
 },
 "nbformat": 4,
 "nbformat_minor": 2
}
